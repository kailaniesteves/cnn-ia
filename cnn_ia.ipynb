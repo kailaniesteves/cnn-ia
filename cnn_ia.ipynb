{
  "nbformat": 4,
  "nbformat_minor": 0,
  "metadata": {
    "colab": {
      "provenance": []
    },
    "kernelspec": {
      "name": "python3",
      "display_name": "Python 3"
    },
    "language_info": {
      "name": "python"
    }
  },
  "cells": [
    {
      "cell_type": "markdown",
      "source": [
        "# **Instalando bibliotecas**"
      ],
      "metadata": {
        "id": "wM2f8lEyp70-"
      }
    },
    {
      "cell_type": "code",
      "execution_count": null,
      "metadata": {
        "id": "DdbaUDUwp1_q"
      },
      "outputs": [],
      "source": [
        "pip install tensorflow matplotlib"
      ]
    },
    {
      "cell_type": "code",
      "source": [
        "import tensorflow as tf\n",
        "import matplotlib.pyplot as plt\n",
        "import numpy as np\n",
        "from tensorflow.keras import layers, datasets"
      ],
      "metadata": {
        "id": "BBLdIVJOq4DK"
      },
      "execution_count": 17,
      "outputs": []
    },
    {
      "cell_type": "code",
      "source": [
        "print(\"TF version:\", tf.__version__)\n",
        "print(\"GPU is\", \"available\" if tf.config.list_physical_devices('GPU') else \"NOT AVAILABLE\")"
      ],
      "metadata": {
        "colab": {
          "base_uri": "https://localhost:8080/"
        },
        "id": "CC-WqDPosWZA",
        "outputId": "e928d9bb-f061-475a-9555-513804363ec1"
      },
      "execution_count": 5,
      "outputs": [
        {
          "output_type": "stream",
          "name": "stdout",
          "text": [
            "TF version: 2.12.0\n",
            "GPU is NOT AVAILABLE\n"
          ]
        }
      ]
    },
    {
      "cell_type": "markdown",
      "source": [
        "# **Importando dataset**"
      ],
      "metadata": {
        "id": "adtg6ugfrNg8"
      }
    },
    {
      "cell_type": "code",
      "source": [
        "(train_images, train_labels), (test_images, test_labels) = tf.keras.datasets.mnist.load_data()\n",
        "\n",
        "# Normalize pixel values to be between 0 and 1\n",
        "train_images, test_images = train_images / 255.0, test_images / 255.0"
      ],
      "metadata": {
        "colab": {
          "base_uri": "https://localhost:8080/"
        },
        "id": "ArS3eA6brSCf",
        "outputId": "26a81573-9023-4d52-b9b5-8008afd6f576"
      },
      "execution_count": 3,
      "outputs": [
        {
          "output_type": "stream",
          "name": "stdout",
          "text": [
            "Downloading data from https://storage.googleapis.com/tensorflow/tf-keras-datasets/mnist.npz\n",
            "11490434/11490434 [==============================] - 1s 0us/step\n"
          ]
        }
      ]
    },
    {
      "cell_type": "markdown",
      "source": [
        "# **Criando o modelo**"
      ],
      "metadata": {
        "id": "Y9zwy_THssKk"
      }
    },
    {
      "cell_type": "code",
      "source": [
        "model = tf.keras.models.Sequential()\n",
        "\n",
        "# Adding convolutional and pooling layers\n",
        "model.add(layers.Conv2D(28, (1, 1), activation='relu', input_shape=(28, 28, 1)))\n",
        "model.add(layers.MaxPooling2D((2, 2)))\n",
        "model.add(layers.Conv2D(64, (3, 3), activation='relu'))\n",
        "model.add(layers.MaxPooling2D((2, 2)))\n",
        "model.add(layers.Conv2D(64, (3, 3), activation='relu'))"
      ],
      "metadata": {
        "id": "qeJuPrx5swMR"
      },
      "execution_count": 6,
      "outputs": []
    },
    {
      "cell_type": "markdown",
      "source": [
        "Adicionando as camadas densas:"
      ],
      "metadata": {
        "id": "sQNkotzWtHdD"
      }
    },
    {
      "cell_type": "code",
      "source": [
        "model.add(layers.Flatten())\n",
        "model.add(layers.Dense(64, activation='relu'))\n",
        "model.add(layers.Dense(10))"
      ],
      "metadata": {
        "id": "6uCazzrftOgH"
      },
      "execution_count": 7,
      "outputs": []
    },
    {
      "cell_type": "markdown",
      "source": [
        "Resumo do modelo criado:"
      ],
      "metadata": {
        "id": "5y2Hk11Ttg1f"
      }
    },
    {
      "cell_type": "code",
      "source": [
        "model.summary()"
      ],
      "metadata": {
        "colab": {
          "base_uri": "https://localhost:8080/"
        },
        "id": "JDMQqKx4tlbN",
        "outputId": "f43447ae-21d2-4765-97b2-12176a1055c9"
      },
      "execution_count": 8,
      "outputs": [
        {
          "output_type": "stream",
          "name": "stdout",
          "text": [
            "Model: \"sequential\"\n",
            "_________________________________________________________________\n",
            " Layer (type)                Output Shape              Param #   \n",
            "=================================================================\n",
            " conv2d (Conv2D)             (None, 28, 28, 28)        56        \n",
            "                                                                 \n",
            " max_pooling2d (MaxPooling2D  (None, 14, 14, 28)       0         \n",
            " )                                                               \n",
            "                                                                 \n",
            " conv2d_1 (Conv2D)           (None, 12, 12, 64)        16192     \n",
            "                                                                 \n",
            " max_pooling2d_1 (MaxPooling  (None, 6, 6, 64)         0         \n",
            " 2D)                                                             \n",
            "                                                                 \n",
            " conv2d_2 (Conv2D)           (None, 4, 4, 64)          36928     \n",
            "                                                                 \n",
            " flatten (Flatten)           (None, 1024)              0         \n",
            "                                                                 \n",
            " dense (Dense)               (None, 64)                65600     \n",
            "                                                                 \n",
            " dense_1 (Dense)             (None, 10)                650       \n",
            "                                                                 \n",
            "=================================================================\n",
            "Total params: 119,426\n",
            "Trainable params: 119,426\n",
            "Non-trainable params: 0\n",
            "_________________________________________________________________\n"
          ]
        }
      ]
    },
    {
      "cell_type": "markdown",
      "source": [
        "# **Compilando o modelo e Iniciando o treinamento**"
      ],
      "metadata": {
        "id": "n9j0i9stt1Qf"
      }
    },
    {
      "cell_type": "code",
      "source": [
        "# Utilizing the \"adam\" algorithm as optimizer and collecting loss and accuracy\n",
        "model.compile(optimizer='adam',\n",
        "              loss=tf.keras.losses.SparseCategoricalCrossentropy(from_logits=True),\n",
        "              metrics=['accuracy'])\n",
        "\n",
        "# Receiving all the training info into history variable and training for 10 epochs\n",
        "history = model.fit(train_images, train_labels, epochs=10,\n",
        "                    validation_data=(test_images, test_labels))"
      ],
      "metadata": {
        "colab": {
          "base_uri": "https://localhost:8080/"
        },
        "id": "aV-iaXpquFKM",
        "outputId": "f8a61949-ca56-42db-d88c-e8f8b798d839"
      },
      "execution_count": 9,
      "outputs": [
        {
          "output_type": "stream",
          "name": "stdout",
          "text": [
            "Epoch 1/10\n",
            "1875/1875 [==============================] - 70s 37ms/step - loss: 0.1702 - accuracy: 0.9475 - val_loss: 0.0583 - val_accuracy: 0.9813\n",
            "Epoch 2/10\n",
            "1875/1875 [==============================] - 68s 36ms/step - loss: 0.0663 - accuracy: 0.9789 - val_loss: 0.0656 - val_accuracy: 0.9769\n",
            "Epoch 3/10\n",
            "1875/1875 [==============================] - 70s 37ms/step - loss: 0.0498 - accuracy: 0.9836 - val_loss: 0.0457 - val_accuracy: 0.9850\n",
            "Epoch 4/10\n",
            "1875/1875 [==============================] - 70s 37ms/step - loss: 0.0397 - accuracy: 0.9873 - val_loss: 0.0472 - val_accuracy: 0.9838\n",
            "Epoch 5/10\n",
            "1875/1875 [==============================] - 67s 36ms/step - loss: 0.0313 - accuracy: 0.9899 - val_loss: 0.0443 - val_accuracy: 0.9856\n",
            "Epoch 6/10\n",
            "1875/1875 [==============================] - 67s 36ms/step - loss: 0.0250 - accuracy: 0.9915 - val_loss: 0.0507 - val_accuracy: 0.9856\n",
            "Epoch 7/10\n",
            "1875/1875 [==============================] - 67s 36ms/step - loss: 0.0216 - accuracy: 0.9926 - val_loss: 0.0504 - val_accuracy: 0.9850\n",
            "Epoch 8/10\n",
            "1875/1875 [==============================] - 67s 36ms/step - loss: 0.0168 - accuracy: 0.9944 - val_loss: 0.0488 - val_accuracy: 0.9845\n",
            "Epoch 9/10\n",
            "1875/1875 [==============================] - 67s 36ms/step - loss: 0.0148 - accuracy: 0.9949 - val_loss: 0.0578 - val_accuracy: 0.9853\n",
            "Epoch 10/10\n",
            "1875/1875 [==============================] - 67s 36ms/step - loss: 0.0128 - accuracy: 0.9958 - val_loss: 0.0688 - val_accuracy: 0.9843\n"
          ]
        }
      ]
    },
    {
      "cell_type": "markdown",
      "source": [
        "# **Criando os gráficos de Erro e Acurácia durante o Treinamento e Validação**"
      ],
      "metadata": {
        "id": "n3uR1sNRxH2h"
      }
    },
    {
      "cell_type": "code",
      "source": [
        "plt.figure()\n",
        "plt.ylabel(\"Loss (training and validation)\")\n",
        "plt.xlabel(\"Training Steps\")\n",
        "plt.ylim([0,2])\n",
        "plt.plot(history.history[\"loss\"])\n",
        "plt.plot(history.history[\"val_loss\"])\n"
      ],
      "metadata": {
        "colab": {
          "base_uri": "https://localhost:8080/",
          "height": 472
        },
        "id": "G8wx3YfkxThB",
        "outputId": "3c6865f9-fef4-455a-8e82-4b165ccc3477"
      },
      "execution_count": 12,
      "outputs": [
        {
          "output_type": "execute_result",
          "data": {
            "text/plain": [
              "[<matplotlib.lines.Line2D at 0x7f14f12cce20>]"
            ]
          },
          "metadata": {},
          "execution_count": 12
        },
        {
          "output_type": "display_data",
          "data": {
            "text/plain": [
              "<Figure size 640x480 with 1 Axes>"
            ],
            "image/png": "[encoded data removed]"
          },
          "metadata": {}
        }
      ]
    },
    {
      "cell_type": "code",
      "source": [
        "plt.figure()\n",
        "plt.ylabel(\"Accuracy (training and validation)\")\n",
        "plt.xlabel(\"Training Steps\")\n",
        "plt.ylim([0,1])\n",
        "plt.plot(history.history[\"accuracy\"])\n",
        "plt.plot(history.history[\"val_accuracy\"])"
      ],
      "metadata": {
        "colab": {
          "base_uri": "https://localhost:8080/",
          "height": 472
        },
        "id": "NS4G8u3Bx4Hp",
        "outputId": "b80d17d7-c857-4455-ba0b-840d6193c04b"
      },
      "execution_count": 13,
      "outputs": [
        {
          "output_type": "execute_result",
          "data": {
            "text/plain": [
              "[<matplotlib.lines.Line2D at 0x7f14f11ffc10>]"
            ]
          },
          "metadata": {},
          "execution_count": 13
        },
        {
          "output_type": "display_data",
          "data": {
            "text/plain": [
              "<Figure size 640x480 with 1 Axes>"
            ],
            "image/png": "[encoded data removed]"
          },
          "metadata": {}
        }
      ]
    },
    {
      "cell_type": "markdown",
      "source": [
        "Avaliando o Classificador:"
      ],
      "metadata": {
        "id": "JelRakyLyDUq"
      }
    },
    {
      "cell_type": "code",
      "source": [
        "test_loss, test_acc = model.evaluate(test_images,  test_labels, verbose=2)\n",
        "print(test_acc)"
      ],
      "metadata": {
        "colab": {
          "base_uri": "https://localhost:8080/"
        },
        "id": "Ll2BV9eGyBg_",
        "outputId": "2ae9ca3d-8623-40f3-945c-001090f02f54"
      },
      "execution_count": 14,
      "outputs": [
        {
          "output_type": "stream",
          "name": "stdout",
          "text": [
            "313/313 - 3s - loss: 0.0688 - accuracy: 0.9843 - 3s/epoch - 8ms/step\n",
            "0.9843000173568726\n"
          ]
        }
      ]
    },
    {
      "cell_type": "markdown",
      "source": [
        "# **Testando o classificador para um dos dados de Teste**"
      ],
      "metadata": {
        "id": "xGhm7HA7yVJk"
      }
    },
    {
      "cell_type": "code",
      "source": [
        "classNames = [\"0\", \"1\", \"2\", \"3\", \"4\", \"5\", \"6\", \"7\", \"8\", \"9\"]\n",
        "\n",
        "x,y = (test_images[0], test_labels[0])\n",
        "plt.imshow(x)\n",
        "plt.axis('off')\n",
        "plt.show()\n",
        "\n",
        "# Expand the validation image to (1, 224, 224, 3) before predicting the label\n",
        "prediction_scores = model.predict(np.expand_dims(x, axis=0))\n",
        "predicted_index = np.argmax(prediction_scores)\n",
        "print(\"True label: 7\")\n",
        "print(\"Predicted label: \" + classNames[predicted_index])"
      ],
      "metadata": {
        "colab": {
          "base_uri": "https://localhost:8080/",
          "height": 458
        },
        "id": "Jju8DEAnyeCP",
        "outputId": "19030073-7799-465c-b78d-c682ed7b60a6"
      },
      "execution_count": 22,
      "outputs": [
        {
          "output_type": "display_data",
          "data": {
            "text/plain": [
              "<Figure size 640x480 with 1 Axes>"
            ],
            "image/png": "[encoded data removed]"
          },
          "metadata": {}
        },
        {
          "output_type": "stream",
          "name": "stdout",
          "text": [
            "1/1 [==============================] - 0s 34ms/step\n",
            "True label: 7\n",
            "Predicted label: 7\n"
          ]
        }
      ]
    }
  ]
}